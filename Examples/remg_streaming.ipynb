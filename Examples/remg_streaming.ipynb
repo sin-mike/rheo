{
 "cells": [
  {
   "cell_type": "code",
   "execution_count": 2,
   "metadata": {},
   "outputs": [
    {
     "data": {
      "text/html": [
       "<div>\n",
       "<style scoped>\n",
       "    .dataframe tbody tr th:only-of-type {\n",
       "        vertical-align: middle;\n",
       "    }\n",
       "\n",
       "    .dataframe tbody tr th {\n",
       "        vertical-align: top;\n",
       "    }\n",
       "\n",
       "    .dataframe thead th {\n",
       "        text-align: right;\n",
       "    }\n",
       "</style>\n",
       "<table border=\"1\" class=\"dataframe\">\n",
       "  <thead>\n",
       "    <tr style=\"text-align: right;\">\n",
       "      <th></th>\n",
       "      <th>device</th>\n",
       "      <th>name</th>\n",
       "      <th>description</th>\n",
       "      <th>hwid</th>\n",
       "      <th>vid</th>\n",
       "      <th>pid</th>\n",
       "      <th>serial_number</th>\n",
       "      <th>location</th>\n",
       "      <th>manufacturer</th>\n",
       "      <th>product</th>\n",
       "      <th>interface</th>\n",
       "    </tr>\n",
       "  </thead>\n",
       "  <tbody>\n",
       "    <tr>\n",
       "      <th>0</th>\n",
       "      <td>/dev/cu.BLTH</td>\n",
       "      <td>cu.BLTH</td>\n",
       "      <td>n/a</td>\n",
       "      <td>n/a</td>\n",
       "      <td>NaN</td>\n",
       "      <td>NaN</td>\n",
       "      <td>None</td>\n",
       "      <td>None</td>\n",
       "      <td>None</td>\n",
       "      <td>None</td>\n",
       "      <td>None</td>\n",
       "    </tr>\n",
       "    <tr>\n",
       "      <th>1</th>\n",
       "      <td>/dev/cu.Bluetooth-Incoming-Port</td>\n",
       "      <td>cu.Bluetooth-Incoming-Port</td>\n",
       "      <td>n/a</td>\n",
       "      <td>n/a</td>\n",
       "      <td>NaN</td>\n",
       "      <td>NaN</td>\n",
       "      <td>None</td>\n",
       "      <td>None</td>\n",
       "      <td>None</td>\n",
       "      <td>None</td>\n",
       "      <td>None</td>\n",
       "    </tr>\n",
       "    <tr>\n",
       "      <th>2</th>\n",
       "      <td>/dev/cu.BoseQC35II</td>\n",
       "      <td>cu.BoseQC35II</td>\n",
       "      <td>n/a</td>\n",
       "      <td>n/a</td>\n",
       "      <td>NaN</td>\n",
       "      <td>NaN</td>\n",
       "      <td>None</td>\n",
       "      <td>None</td>\n",
       "      <td>None</td>\n",
       "      <td>None</td>\n",
       "      <td>None</td>\n",
       "    </tr>\n",
       "    <tr>\n",
       "      <th>3</th>\n",
       "      <td>/dev/cu.usbserial-0001</td>\n",
       "      <td>cu.usbserial-0001</td>\n",
       "      <td>CP2102 USB to UART Bridge Controller - CP2102 ...</td>\n",
       "      <td>USB VID:PID=10C4:EA60 SER=0001 LOCATION=20-4.3</td>\n",
       "      <td>4292.0</td>\n",
       "      <td>60000.0</td>\n",
       "      <td>0001</td>\n",
       "      <td>20-4.3</td>\n",
       "      <td>Silicon Labs</td>\n",
       "      <td>CP2102 USB to UART Bridge Controller</td>\n",
       "      <td>CP2102 USB to UART Bridge Controller</td>\n",
       "    </tr>\n",
       "  </tbody>\n",
       "</table>\n",
       "</div>"
      ],
      "text/plain": [
       "                            device                        name  \\\n",
       "0                     /dev/cu.BLTH                     cu.BLTH   \n",
       "1  /dev/cu.Bluetooth-Incoming-Port  cu.Bluetooth-Incoming-Port   \n",
       "2               /dev/cu.BoseQC35II               cu.BoseQC35II   \n",
       "3           /dev/cu.usbserial-0001           cu.usbserial-0001   \n",
       "\n",
       "                                         description  \\\n",
       "0                                                n/a   \n",
       "1                                                n/a   \n",
       "2                                                n/a   \n",
       "3  CP2102 USB to UART Bridge Controller - CP2102 ...   \n",
       "\n",
       "                                             hwid     vid      pid  \\\n",
       "0                                             n/a     NaN      NaN   \n",
       "1                                             n/a     NaN      NaN   \n",
       "2                                             n/a     NaN      NaN   \n",
       "3  USB VID:PID=10C4:EA60 SER=0001 LOCATION=20-4.3  4292.0  60000.0   \n",
       "\n",
       "  serial_number location  manufacturer                               product  \\\n",
       "0          None     None          None                                  None   \n",
       "1          None     None          None                                  None   \n",
       "2          None     None          None                                  None   \n",
       "3          0001   20-4.3  Silicon Labs  CP2102 USB to UART Bridge Controller   \n",
       "\n",
       "                              interface  \n",
       "0                                  None  \n",
       "1                                  None  \n",
       "2                                  None  \n",
       "3  CP2102 USB to UART Bridge Controller  "
      ]
     },
     "execution_count": 2,
     "metadata": {},
     "output_type": "execute_result"
    }
   ],
   "source": [
    "import numpy as np\n",
    "import REMG\n",
    "import time\n",
    "REMG.list_devices()"
   ]
  },
  {
   "cell_type": "code",
   "execution_count": 4,
   "metadata": {},
   "outputs": [
    {
     "name": "stdout",
     "output_type": "stream",
     "text": [
      "Opened serial port /dev/cu.usbserial-0001 at 921600 baud\n"
     ]
    }
   ],
   "source": [
    "rheo = REMG.remgSerialInterface('/dev/cu.usbserial-0001')"
   ]
  },
  {
   "cell_type": "code",
   "execution_count": 5,
   "metadata": {},
   "outputs": [
    {
     "name": "stdout",
     "output_type": "stream",
     "text": [
      "Started Serial While Loop\n",
      "Started reading thread\n"
     ]
    }
   ],
   "source": [
    "rheo.start_reading()"
   ]
  },
  {
   "cell_type": "code",
   "execution_count": 9,
   "metadata": {},
   "outputs": [
    {
     "name": "stdout",
     "output_type": "stream",
     "text": [
      "38 1730285132.0202932 [613409, 120610, 181283, 503588, 301349, 1079590, 591399, 511528, 370217, 40490, 196651, 151596] [115384641, 118255170, 123042371, 113098820, 105248837, 90944326, 117826119, 98995784, 91128393, 122128970, 117216587, 87966028]                                                       \r"
     ]
    },
    {
     "ename": "KeyboardInterrupt",
     "evalue": "",
     "output_type": "error",
     "traceback": [
      "\u001b[0;31m---------------------------------------------------------------------------\u001b[0m",
      "\u001b[0;31mKeyboardInterrupt\u001b[0m                         Traceback (most recent call last)",
      "Cell \u001b[0;32mIn[9], line 7\u001b[0m\n\u001b[1;32m      5\u001b[0m     \u001b[38;5;28mprint\u001b[39m(state_id, state_ts, \u001b[38;5;28mlist\u001b[39m(state[rheo\u001b[38;5;241m.\u001b[39mEMG_IDX]), \u001b[38;5;28mlist\u001b[39m(state[rheo\u001b[38;5;241m.\u001b[39mRMG_IDX]), end\u001b[38;5;241m=\u001b[39m\u001b[38;5;124m\"\u001b[39m\u001b[38;5;124m \u001b[39m\u001b[38;5;124m\"\u001b[39m\u001b[38;5;241m*\u001b[39m\u001b[38;5;241m50\u001b[39m\u001b[38;5;241m+\u001b[39m\u001b[38;5;124m'\u001b[39m\u001b[38;5;130;01m\\r\u001b[39;00m\u001b[38;5;124m'\u001b[39m)\n\u001b[1;32m      6\u001b[0m \u001b[38;5;28;01melse\u001b[39;00m:\n\u001b[0;32m----> 7\u001b[0m     time\u001b[38;5;241m.\u001b[39msleep(\u001b[38;5;241m0.005\u001b[39m)\n",
      "\u001b[0;31mKeyboardInterrupt\u001b[0m: "
     ]
    }
   ],
   "source": [
    "rheo.clear_state_buffer()\n",
    "while True:\n",
    "    if rheo.have_state():\n",
    "        state_id, state_ts, state = rheo.get_state()\n",
    "        print(state_id, state_ts, list(state[rheo.EMG_IDX]), list(state[rheo.RMG_IDX]), end=\" \"*50+'\\r')\n",
    "    else:\n",
    "        time.sleep(0.005)"
   ]
  },
  {
   "cell_type": "markdown",
   "metadata": {},
   "source": [
    "# Teleplot\n"
   ]
  },
  {
   "cell_type": "code",
   "execution_count": 10,
   "metadata": {},
   "outputs": [
    {
     "name": "stdout",
     "output_type": "stream",
     "text": [
      "92 1730285138.219667 [708129, 120354, 216099, 566820, 330533, 1330470, 479271, 483624, 370473, 38698, 183851, 140332] [115391809, 118261314, 123027267, 113126468, 105247813, 90959686, 117897287, 98985800, 91133513, 122126922, 117476171, 87807308]                                                     \r"
     ]
    },
    {
     "ename": "KeyboardInterrupt",
     "evalue": "",
     "output_type": "error",
     "traceback": [
      "\u001b[0;31m---------------------------------------------------------------------------\u001b[0m",
      "\u001b[0;31mKeyboardInterrupt\u001b[0m                         Traceback (most recent call last)",
      "Cell \u001b[0;32mIn[10], line 24\u001b[0m\n\u001b[1;32m     22\u001b[0m     sendManyTelemetry(\u001b[38;5;124m'\u001b[39m\u001b[38;5;130;01m\\n\u001b[39;00m\u001b[38;5;124m'\u001b[39m\u001b[38;5;241m.\u001b[39mjoin(\u001b[38;5;28mlist\u001b[39m(\u001b[38;5;28mmap\u001b[39m(\u001b[38;5;28;01mlambda\u001b[39;00m x: \u001b[38;5;124mf\u001b[39m\u001b[38;5;124m'\u001b[39m\u001b[38;5;132;01m{\u001b[39;00mx[\u001b[38;5;241m0\u001b[39m]\u001b[38;5;132;01m}\u001b[39;00m\u001b[38;5;124m:\u001b[39m\u001b[38;5;132;01m{\u001b[39;00mx[\u001b[38;5;241m1\u001b[39m]\u001b[38;5;132;01m}\u001b[39;00m\u001b[38;5;124m'\u001b[39m, \u001b[38;5;28mzip\u001b[39m(RMG_LABELS, state[rheo\u001b[38;5;241m.\u001b[39mRMG_IDX])))))\n\u001b[1;32m     23\u001b[0m \u001b[38;5;28;01melse\u001b[39;00m:\n\u001b[0;32m---> 24\u001b[0m     time\u001b[38;5;241m.\u001b[39msleep(\u001b[38;5;241m0.005\u001b[39m)\n",
      "\u001b[0;31mKeyboardInterrupt\u001b[0m: "
     ]
    },
    {
     "name": "stderr",
     "output_type": "stream",
     "text": [
      "Exception in thread Thread-6 (read_serial):\n",
      "Traceback (most recent call last):\n",
      "  File \"/usr/local/anaconda3/envs/opto3/lib/python3.11/threading.py\", line 1045, in _bootstrap_inner\n",
      "    self.run()\n",
      "  File \"/usr/local/anaconda3/envs/opto3/lib/python3.11/threading.py\", line 982, in run\n",
      "    self._target(*self._args, **self._kwargs)\n",
      "  File \"/Users/mike/motorica/Data/RheoMG/rheo/REMG/remgSerialInterface.py\", line 66, in read_serial\n",
      "    data_raw = self.ser.read(self.data_len)\n",
      "               ^^^^^^^^^^^^^^^^^^^^^^^^^^^^\n",
      "  File \"/usr/local/anaconda3/envs/opto3/lib/python3.11/site-packages/serial/serialposix.py\", line 595, in read\n",
      "    raise SerialException(\n",
      "serial.serialutil.SerialException: device reports readiness to read but returned no data (device disconnected or multiple access on port?)\n"
     ]
    }
   ],
   "source": [
    "import socket\n",
    "teleplotAddr = (\"127.0.0.1\",47269)\n",
    "sock = socket.socket(socket.AF_INET, socket.SOCK_DGRAM)\n",
    "\n",
    "def sendTelemetry(name, value):\n",
    "    now = time.time() * 1000\n",
    "    msg = name+\":\"+str(now)+\":\"+str(value)+\"|g\"\n",
    "    sock.sendto(msg.encode(), teleplotAddr)\n",
    "\n",
    "def sendManyTelemetry(s: str):\n",
    "    sock.sendto(s.encode(), teleplotAddr)\n",
    "EMG_LABELS= [\"EMG%i\"%i for i in range(len(rheo.EMG_IDX))]\n",
    "RMG_LABELS = [\"RMG%i\"%i for i in range(len(rheo.RMG_IDX))]\n",
    "\n",
    "\n",
    "rheo.clear_state_buffer()\n",
    "while True:\n",
    "    if rheo.have_state():\n",
    "        state_id, state_ts, state = rheo.get_state()\n",
    "        print(state_id, state_ts, list(state[rheo.EMG_IDX]), list(state[rheo.RMG_IDX]), end=\" \"*50+'\\r')\n",
    "        sendManyTelemetry('\\n'.join(list(map(lambda x: f'{x[0]}:{x[1]}', zip(EMG_LABELS, state[rheo.EMG_IDX])))))\n",
    "        sendManyTelemetry('\\n'.join(list(map(lambda x: f'{x[0]}:{x[1]}', zip(RMG_LABELS, state[rheo.RMG_IDX])))))\n",
    "    else:\n",
    "        time.sleep(0.005)\n"
   ]
  },
  {
   "cell_type": "code",
   "execution_count": null,
   "metadata": {},
   "outputs": [],
   "source": []
  }
 ],
 "metadata": {
  "kernelspec": {
   "display_name": "opto3",
   "language": "python",
   "name": "python3"
  },
  "language_info": {
   "codemirror_mode": {
    "name": "ipython",
    "version": 3
   },
   "file_extension": ".py",
   "mimetype": "text/x-python",
   "name": "python",
   "nbconvert_exporter": "python",
   "pygments_lexer": "ipython3",
   "version": "3.11.7"
  }
 },
 "nbformat": 4,
 "nbformat_minor": 2
}
