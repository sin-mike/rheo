{
 "cells": [
  {
   "cell_type": "code",
   "execution_count": 2,
   "metadata": {},
   "outputs": [
    {
     "data": {
      "text/html": [
       "<div>\n",
       "<style scoped>\n",
       "    .dataframe tbody tr th:only-of-type {\n",
       "        vertical-align: middle;\n",
       "    }\n",
       "\n",
       "    .dataframe tbody tr th {\n",
       "        vertical-align: top;\n",
       "    }\n",
       "\n",
       "    .dataframe thead th {\n",
       "        text-align: right;\n",
       "    }\n",
       "</style>\n",
       "<table border=\"1\" class=\"dataframe\">\n",
       "  <thead>\n",
       "    <tr style=\"text-align: right;\">\n",
       "      <th></th>\n",
       "      <th>device</th>\n",
       "      <th>name</th>\n",
       "      <th>description</th>\n",
       "      <th>hwid</th>\n",
       "      <th>vid</th>\n",
       "      <th>pid</th>\n",
       "      <th>serial_number</th>\n",
       "      <th>location</th>\n",
       "      <th>manufacturer</th>\n",
       "      <th>product</th>\n",
       "      <th>interface</th>\n",
       "    </tr>\n",
       "  </thead>\n",
       "  <tbody>\n",
       "    <tr>\n",
       "      <th>0</th>\n",
       "      <td>/dev/cu.BLTH</td>\n",
       "      <td>cu.BLTH</td>\n",
       "      <td>n/a</td>\n",
       "      <td>n/a</td>\n",
       "      <td>NaN</td>\n",
       "      <td>NaN</td>\n",
       "      <td>None</td>\n",
       "      <td>None</td>\n",
       "      <td>None</td>\n",
       "      <td>None</td>\n",
       "      <td>None</td>\n",
       "    </tr>\n",
       "    <tr>\n",
       "      <th>1</th>\n",
       "      <td>/dev/cu.Bluetooth-Incoming-Port</td>\n",
       "      <td>cu.Bluetooth-Incoming-Port</td>\n",
       "      <td>n/a</td>\n",
       "      <td>n/a</td>\n",
       "      <td>NaN</td>\n",
       "      <td>NaN</td>\n",
       "      <td>None</td>\n",
       "      <td>None</td>\n",
       "      <td>None</td>\n",
       "      <td>None</td>\n",
       "      <td>None</td>\n",
       "    </tr>\n",
       "    <tr>\n",
       "      <th>2</th>\n",
       "      <td>/dev/cu.BoseQC35II</td>\n",
       "      <td>cu.BoseQC35II</td>\n",
       "      <td>n/a</td>\n",
       "      <td>n/a</td>\n",
       "      <td>NaN</td>\n",
       "      <td>NaN</td>\n",
       "      <td>None</td>\n",
       "      <td>None</td>\n",
       "      <td>None</td>\n",
       "      <td>None</td>\n",
       "      <td>None</td>\n",
       "    </tr>\n",
       "    <tr>\n",
       "      <th>3</th>\n",
       "      <td>/dev/cu.usbserial-143100</td>\n",
       "      <td>cu.usbserial-143100</td>\n",
       "      <td>Dual RS232-HS - Dual RS232-HS</td>\n",
       "      <td>USB VID:PID=0403:6010 LOCATION=20-3.1</td>\n",
       "      <td>1027.0</td>\n",
       "      <td>24592.0</td>\n",
       "      <td>None</td>\n",
       "      <td>20-3.1</td>\n",
       "      <td>FTDI</td>\n",
       "      <td>Dual RS232-HS</td>\n",
       "      <td>Dual RS232-HS</td>\n",
       "    </tr>\n",
       "    <tr>\n",
       "      <th>4</th>\n",
       "      <td>/dev/cu.usbserial-143101</td>\n",
       "      <td>cu.usbserial-143101</td>\n",
       "      <td>Dual RS232-HS - Dual RS232-HS</td>\n",
       "      <td>USB VID:PID=0403:6010 LOCATION=20-3.1</td>\n",
       "      <td>1027.0</td>\n",
       "      <td>24592.0</td>\n",
       "      <td>None</td>\n",
       "      <td>20-3.1</td>\n",
       "      <td>FTDI</td>\n",
       "      <td>Dual RS232-HS</td>\n",
       "      <td>Dual RS232-HS</td>\n",
       "    </tr>\n",
       "  </tbody>\n",
       "</table>\n",
       "</div>"
      ],
      "text/plain": [
       "                            device                        name  \\\n",
       "0                     /dev/cu.BLTH                     cu.BLTH   \n",
       "1  /dev/cu.Bluetooth-Incoming-Port  cu.Bluetooth-Incoming-Port   \n",
       "2               /dev/cu.BoseQC35II               cu.BoseQC35II   \n",
       "3         /dev/cu.usbserial-143100         cu.usbserial-143100   \n",
       "4         /dev/cu.usbserial-143101         cu.usbserial-143101   \n",
       "\n",
       "                     description                                   hwid  \\\n",
       "0                            n/a                                    n/a   \n",
       "1                            n/a                                    n/a   \n",
       "2                            n/a                                    n/a   \n",
       "3  Dual RS232-HS - Dual RS232-HS  USB VID:PID=0403:6010 LOCATION=20-3.1   \n",
       "4  Dual RS232-HS - Dual RS232-HS  USB VID:PID=0403:6010 LOCATION=20-3.1   \n",
       "\n",
       "      vid      pid serial_number location manufacturer        product  \\\n",
       "0     NaN      NaN          None     None         None           None   \n",
       "1     NaN      NaN          None     None         None           None   \n",
       "2     NaN      NaN          None     None         None           None   \n",
       "3  1027.0  24592.0          None   20-3.1         FTDI  Dual RS232-HS   \n",
       "4  1027.0  24592.0          None   20-3.1         FTDI  Dual RS232-HS   \n",
       "\n",
       "       interface  \n",
       "0           None  \n",
       "1           None  \n",
       "2           None  \n",
       "3  Dual RS232-HS  \n",
       "4  Dual RS232-HS  "
      ]
     },
     "execution_count": 2,
     "metadata": {},
     "output_type": "execute_result"
    }
   ],
   "source": [
    "import numpy as np\n",
    "import REMG\n",
    "import time\n",
    "REMG.list_devices()"
   ]
  },
  {
   "cell_type": "code",
   "execution_count": 3,
   "metadata": {},
   "outputs": [
    {
     "name": "stdout",
     "output_type": "stream",
     "text": [
      "Opened serial port /dev/cu.usbserial-143101 at 921600 baud\n"
     ]
    }
   ],
   "source": [
    "rheo = REMG.remgSerialInterface('/dev/cu.usbserial-143101')"
   ]
  },
  {
   "cell_type": "code",
   "execution_count": 4,
   "metadata": {},
   "outputs": [
    {
     "name": "stdout",
     "output_type": "stream",
     "text": [
      "Started Serial While Loop\n",
      "Started reading thread\n"
     ]
    }
   ],
   "source": [
    "rheo.start_reading()"
   ]
  },
  {
   "cell_type": "code",
   "execution_count": 11,
   "metadata": {},
   "outputs": [
    {
     "name": "stdout",
     "output_type": "stream",
     "text": [
      "186 [536097, 2075682, 430883, 1066788, 841509, 691238, 22311, 17704, 23337, 29994, 19755, 127532] [102497089, 114085698, 123013955, 113838404, 110169157, 93142598, 102998599, 100202312, 103396425, 106672970, 120307019, 76]                                                         \r"
     ]
    },
    {
     "ename": "KeyboardInterrupt",
     "evalue": "",
     "output_type": "error",
     "traceback": [
      "\u001b[0;31m---------------------------------------------------------------------------\u001b[0m",
      "\u001b[0;31mKeyboardInterrupt\u001b[0m                         Traceback (most recent call last)",
      "Cell \u001b[0;32mIn[11], line 5\u001b[0m\n\u001b[1;32m      3\u001b[0m     pack \u001b[38;5;241m=\u001b[39m rheo\u001b[38;5;241m.\u001b[39minc_data\u001b[38;5;241m.\u001b[39mpopleft()\n\u001b[1;32m      4\u001b[0m     \u001b[38;5;28mprint\u001b[39m(pack[\u001b[38;5;241m0\u001b[39m], \u001b[38;5;28mlist\u001b[39m(pack[\u001b[38;5;241m1\u001b[39m][rheo\u001b[38;5;241m.\u001b[39mEMG_IDX]), \u001b[38;5;28mlist\u001b[39m(pack[\u001b[38;5;241m1\u001b[39m][rheo\u001b[38;5;241m.\u001b[39mRMG_IDX]), end\u001b[38;5;241m=\u001b[39m\u001b[38;5;124m\"\u001b[39m\u001b[38;5;124m \u001b[39m\u001b[38;5;124m\"\u001b[39m\u001b[38;5;241m*\u001b[39m\u001b[38;5;241m50\u001b[39m\u001b[38;5;241m+\u001b[39m\u001b[38;5;124m'\u001b[39m\u001b[38;5;130;01m\\r\u001b[39;00m\u001b[38;5;124m'\u001b[39m)\n\u001b[0;32m----> 5\u001b[0m time\u001b[38;5;241m.\u001b[39msleep(\u001b[38;5;241m0.005\u001b[39m)\n",
      "\u001b[0;31mKeyboardInterrupt\u001b[0m: "
     ]
    }
   ],
   "source": [
    "while True:\n",
    "    if len(rheo.inc_data)>0:\n",
    "        pack = rheo.inc_data.popleft()\n",
    "        print(pack[0], list(pack[1][rheo.EMG_IDX]), list(pack[1][rheo.RMG_IDX]), end=\" \"*50+'\\r')\n",
    "    time.sleep(0.005)\n"
   ]
  },
  {
   "cell_type": "markdown",
   "metadata": {},
   "source": [
    "# Teleplot\n"
   ]
  },
  {
   "cell_type": "code",
   "execution_count": 24,
   "metadata": {},
   "outputs": [
    {
     "data": {
      "text/plain": [
       "'RMG0:102494273\\nRMG1:113865794\\nRMG2:123017027\\nRMG3:113799748\\nRMG4:110046277\\nRMG5:93094726\\nRMG6:103005767\\nRMG7:100206408\\nRMG8:103290697\\nRMG9:106932298\\nRMG10:119899211\\nRMG11:76'"
      ]
     },
     "execution_count": 24,
     "metadata": {},
     "output_type": "execute_result"
    }
   ],
   "source": [
    "\n",
    "# '\\n'.join(list(map(lambda x: f'{x[0]}:{x[1]}', zip(RMG_LABELS, pack[1][rheo.RMG_IDX]))))\n"
   ]
  },
  {
   "cell_type": "code",
   "execution_count": 26,
   "metadata": {},
   "outputs": [
    {
     "name": "stdout",
     "output_type": "stream",
     "text": [
      "6 [503585, 905762, 419875, 1049380, 948261, 698918, 26919, 19752, 22313, 40234, 16427, 97836] [102520641, 115578946, 122530883, 110742852, 112087877, 91887430, 102989639, 100194120, 102927433, 106824522, 119808587, 76]                                                              \r"
     ]
    },
    {
     "ename": "KeyboardInterrupt",
     "evalue": "",
     "output_type": "error",
     "traceback": [
      "\u001b[0;31m---------------------------------------------------------------------------\u001b[0m",
      "\u001b[0;31mKeyboardInterrupt\u001b[0m                         Traceback (most recent call last)",
      "Cell \u001b[0;32mIn[26], line 21\u001b[0m\n\u001b[1;32m     19\u001b[0m     sendManyTelemetry(\u001b[38;5;124m'\u001b[39m\u001b[38;5;130;01m\\n\u001b[39;00m\u001b[38;5;124m'\u001b[39m\u001b[38;5;241m.\u001b[39mjoin(\u001b[38;5;28mlist\u001b[39m(\u001b[38;5;28mmap\u001b[39m(\u001b[38;5;28;01mlambda\u001b[39;00m x: \u001b[38;5;124mf\u001b[39m\u001b[38;5;124m'\u001b[39m\u001b[38;5;132;01m{\u001b[39;00mx[\u001b[38;5;241m0\u001b[39m]\u001b[38;5;132;01m}\u001b[39;00m\u001b[38;5;124m:\u001b[39m\u001b[38;5;132;01m{\u001b[39;00mx[\u001b[38;5;241m1\u001b[39m]\u001b[38;5;132;01m}\u001b[39;00m\u001b[38;5;124m'\u001b[39m, \u001b[38;5;28mzip\u001b[39m(EMG_LABELS, pack[\u001b[38;5;241m1\u001b[39m][rheo\u001b[38;5;241m.\u001b[39mEMG_IDX])))))\n\u001b[1;32m     20\u001b[0m     sendManyTelemetry(\u001b[38;5;124m'\u001b[39m\u001b[38;5;130;01m\\n\u001b[39;00m\u001b[38;5;124m'\u001b[39m\u001b[38;5;241m.\u001b[39mjoin(\u001b[38;5;28mlist\u001b[39m(\u001b[38;5;28mmap\u001b[39m(\u001b[38;5;28;01mlambda\u001b[39;00m x: \u001b[38;5;124mf\u001b[39m\u001b[38;5;124m'\u001b[39m\u001b[38;5;132;01m{\u001b[39;00mx[\u001b[38;5;241m0\u001b[39m]\u001b[38;5;132;01m}\u001b[39;00m\u001b[38;5;124m:\u001b[39m\u001b[38;5;132;01m{\u001b[39;00mx[\u001b[38;5;241m1\u001b[39m]\u001b[38;5;132;01m}\u001b[39;00m\u001b[38;5;124m'\u001b[39m, \u001b[38;5;28mzip\u001b[39m(RMG_LABELS, pack[\u001b[38;5;241m1\u001b[39m][rheo\u001b[38;5;241m.\u001b[39mRMG_IDX])))))\n\u001b[0;32m---> 21\u001b[0m time\u001b[38;5;241m.\u001b[39msleep(\u001b[38;5;241m0.005\u001b[39m)\n",
      "\u001b[0;31mKeyboardInterrupt\u001b[0m: "
     ]
    }
   ],
   "source": [
    "import socket\n",
    "teleplotAddr = (\"127.0.0.1\",47269)\n",
    "sock = socket.socket(socket.AF_INET, socket.SOCK_DGRAM)\n",
    "\n",
    "def sendTelemetry(name, value):\n",
    "    now = time.time() * 1000\n",
    "    msg = name+\":\"+str(now)+\":\"+str(value)+\"|g\"\n",
    "    sock.sendto(msg.encode(), teleplotAddr)\n",
    "\n",
    "def sendManyTelemetry(s: str):\n",
    "    sock.sendto(s.encode(), teleplotAddr)\n",
    "EMG_LABELS= [\"EMG%i\"%i for i in range(len(rheo.EMG_IDX))]\n",
    "RMG_LABELS = [\"RMG%i\"%i for i in range(len(rheo.RMG_IDX))]\n",
    "\n",
    "while True:\n",
    "    if len(rheo.inc_data)>0:\n",
    "        pack = rheo.inc_data.popleft()\n",
    "        print(pack[0], list(pack[1][rheo.EMG_IDX]), list(pack[1][rheo.RMG_IDX]), end=\" \"*50+'\\r')\n",
    "        sendManyTelemetry('\\n'.join(list(map(lambda x: f'{x[0]}:{x[1]}', zip(EMG_LABELS, pack[1][rheo.EMG_IDX])))))\n",
    "        sendManyTelemetry('\\n'.join(list(map(lambda x: f'{x[0]}:{x[1]}', zip(RMG_LABELS, pack[1][rheo.RMG_IDX])))))\n",
    "    time.sleep(0.005)\n"
   ]
  },
  {
   "cell_type": "code",
   "execution_count": null,
   "metadata": {},
   "outputs": [],
   "source": []
  }
 ],
 "metadata": {
  "kernelspec": {
   "display_name": "opto3",
   "language": "python",
   "name": "python3"
  },
  "language_info": {
   "codemirror_mode": {
    "name": "ipython",
    "version": 3
   },
   "file_extension": ".py",
   "mimetype": "text/x-python",
   "name": "python",
   "nbconvert_exporter": "python",
   "pygments_lexer": "ipython3",
   "version": "3.11.7"
  }
 },
 "nbformat": 4,
 "nbformat_minor": 2
}
